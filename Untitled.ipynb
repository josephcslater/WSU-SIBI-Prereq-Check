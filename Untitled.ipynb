{
 "cells": [
  {
   "cell_type": "code",
   "execution_count": 1,
   "metadata": {
    "collapsed": true
   },
   "outputs": [],
   "source": [
    "prereqdict = {\"ME1020\": ([\"EGR1010\"], [\"MTH2300\", \"MTH2310\"]),\n",
    "              \"ME2120\": ([\"EGR1010\", \"ME1040\", \"PHY2400\"], [\"EGR1010\", \"ME2020\", \"PHY2400\"], [\"MTH2310\", \"ME1040\", \"PHY2400\"], [\"MTH2310\", \"ME2020\", \"PHY2400\"]),\n",
    "              \"ME2210\": ([\"ME1020\", \"ME2120\"]),  # Verified Aug-15-2016\n",
    "              # This is a pre or co requisite. How to code? I think this works now.\n",
    "              \"ME2600\": (\"ME2700c\"),  # Recitation is a co-requisite\n",
    "              \"ME2700\": ([\"CHM1210\", \"PHY2400\"]),\n",
    "              \"ME3120\": ([\"ME1020\", \"ME2120\"]),  # Verified Aug-15-2016\n",
    "              \"ME3210\": ([\"EE2010\", \"ME2210\", \"ME3120\", \"ME3350\", \"MTH2350\"],[\"EE2010\", \"ME2210\", \"ME3120\", \"ME3350\", \"MTH2350\"]),  # Verified Aug-16-2016\n",
    "              \"ME3310\": ([\"EGR1010\", \"PHY2400\"], [\"MTH2310c\", \"PHY2400\"]),\n",
    "              \"ME3320\": ([\"ME1020\", \"ME3310\"]),  # Verified Aug-16-2016\n",
    "              \"ME3350\": ([\"ME2210\", \"ME3310\"]),  # Verified Aug-16-2016\n",
    "              \"ME3360\": ([\"ME3350\", \"MTH2350\"],[\"ME3350\", \"MTH2350\"]),  # Verified Aug-15-2016\n",
    "              \"ME3600\": ([\"EE2010\", \"EGR3350\", \"ME2120\", \"MTH2350\"],[\"EE2010\", \"EGR3350\", \"ME2120\", \"MTH2330\", \"MTH2530\"]),\n",
    "              \"ME3750\": (\"ME2700\"),  # Verified Aug-15-2016\n",
    "              \"ME3760\": (\"ME3750\"),  # Verified Aug-15-2016\n",
    "              \"ME4010\": ([\"ME3360\", \"ME3210\"]),  # Verified Aug-15-2016\n",
    "              \"ME4080\": ([\"MTH2350\", \"ME3210\"], [\"MTH2330\", \"MTH2530\", \"ME3210\"]),  # Verified Aug-16-2016\n",
    "              \"ME4120\": ([\"MTH2320\", \"MTH2350\", \"ME3120\"], [\"MTH2320\", \"MTH2330\", \"MTH2530\", \"ME3120\"]),\n",
    "              \"ME4140\": ([\"ME2700\", \"ME3120\"]),  # Verified Aug-16-2016\n",
    "              \"ME4150\": (\"ME4140\"),  # Verified Aug-16-2016\n",
    "              \"ME4160\": ([\"ME2020\", \"ME2210\", \"ME3120\"], [\"ME1040\", \"ME2210\", \"ME3120\"]),\n",
    "              \"ME4180\": (\"ME2700\"),  # Verified Aug-16-2016\n",
    "              \"ME4190\": ([\"MTH2350\", \"MTH2320\", \"ME3350\"], [\"MTH2330\", \"MTH2530\", \"MTH2320\", \"ME3350\"]),\n",
    "              \"ME4210\": (\"ME3210\"),  # Verified Aug-16-2016\n",
    "              \"ME4220\": (\"ME3210\"),\n",
    "              \"ME4240\": (\"ME2210\"),  # Verified Aug-16-2016\n",
    "              \"ME4250\": (\"ME2210\"),  # Verified Aug-16-2016\n",
    "              \"ME4260\": ([\"MTH2350\"], [\"MTH2530\", \"MTH2530\"]),\n",
    "              \"ME4330\": (\"ME3350\"),  # Verified Aug-16-2016\n",
    "              \"ME4340\": (\"ME3360\"),  # Verified Aug-16-2016\n",
    "              \"ME4350\": (\"ME3350\"),  # Verified Aug-16-2016\n",
    "              \"ME4360\": ([\"ME3320\", \"ME3350\", \"MTH2350\"], [\"ME3320\", \"ME3350\", \"MTH2530\",\"MTH2330\"]),\n",
    "              \"ME4430\": (\"ME3350\"),  # Verified Aug-16-2016\n",
    "              \"ME4440\": (\"ME3350\"),  # Verified Aug-16-2016\n",
    "              \"ME4490\": (\"ME3120\"),  # Verified Aug-16-2016\n",
    "              \"ME4520\": (\"ME3350\"),  # Verified Aug-16-2016\n",
    "              \"ME4530\": (\"ME3310\"),  # Verified Aug-16-2016\n",
    "              \"ME4540\": (\"ME3360\"),  # Verified Aug-16-2016\n",
    "              \"ME4550\": (\"ME3360\"),  # Verified Aug-16-2016\n",
    "              \"ME4560\": (\"ME3350\"),  # Verified Aug-16-2016\n",
    "              \"ME4570\": ([\"ME2700\", \"ME3310\"], [\"ME2700\", \"ME3750\"]),\n",
    "              \"ME4580\": ([\"ME2700\", \"ME3310\"], [\"ME2700\", \"ME3750\"]),\n",
    "              \"ME4590\": (\"ME3360\"),  # Verified Aug-16-2016\n",
    "              \"ME4610\": ([\"ME3360\", \"ME3600\"]),  # Verified Aug-16-2016\n",
    "              \"ME4620\": ([\"ME2700\", \"ME3120\", \"ME3600\"]),\n",
    "              \"ME4680\": ([\"CHM1210\", \"PHY2410\"], [\"CHM1210\", \"PHY1120\"]),\n",
    "              \"ME4700\": ([\"ME2700\", \"MTH2320\", \"MTH2350\"],[\"ME2700\", \"MTH2320\", \"MTH2330\", \"MTH2530\"]),\n",
    "              \"ME4720\": (\"ME2700\"),  # Verified Aug-16-2016\n",
    "              \"ME4730\": (\"ME2700\"),  # Verified Aug-16-2016\n",
    "              \"ME4740\": ([\"ME2700\", \"ME3120\", \"ME4620c\"]),\n",
    "              \"ME4750\": ([\"ME2600\", \"ME2700\"]),  # Verified Aug-16-2016\n",
    "              \"ME4770\": ([\"ME2700\", \"ME3120\"]),  # Verified Aug-16-2016\n",
    "              \"ME4820\": ([\"ME2700\", \"ME3310\"], [\"ME2700\", \"ME3750\"]),\n",
    "              \"ME4830\": (\"ME2700\"),  # Verified Aug-16-2016\n",
    "              \"ME4840\": ([\"ME2700\", \"ME3120\"]),  # Verified Aug-16-2016\n",
    "              \"ME4850\": ([\"ME2700\", \"ME3310\"], [\"ME2700\", \"ME3750\"]),\n",
    "              \"ME4860\": ([\"ME2700\", \"ME3120\"]),  # Verified Aug-16-2016\n",
    "              \"ME4870\": ([\"ME2210\"], [\"BME3212\"], [\"ISE3212\"]),\n",
    "              \"ME4880\": ([\"ME2700\", \"ME3310\"], [\"ME2700\", \"ME3750\"]),\n",
    "              \"ME4910\": (\n",
    "              [\"ME2020\", \"EGR3350\", \"MTH2320\", \"MTH2350\", \"PHY2410\", \"EE2010\", \"ME2210\", \"ME2700\", \"ME3120\", \"ME3310\",\n",
    "               \"ME4620c\"],[\"ME2020\", \"EGR3350\", \"MTH2320\", \"MTH2330\", \"MTH2530\", \"PHY2410\", \"EE2010\", \"ME2210\", \"ME2700\", \"ME3120\", \"ME3310\",\n",
    "               \"ME4620c\"]),\n",
    "              \"ME7060\": ([\"ME6120\", \"ME7100\"],[\"ME4120\", \"ME7100\"]),\n",
    "              \"ME7080\": ([\"ME6120\", \"ME7100\"],[\"ME4120\", \"ME7100\"]),\n",
    "              \"ME7120\": (\"ME4120\",\"ME6120\"),\n",
    "              \"ME7140\": ([\"ME6120\", \"ME7100\"],[\"ME4120\", \"ME7100\"]),\n",
    "              \"ME7160\": ([\"ME6120\", \"ME7100\"],[\"ME4120\", \"ME7100\"]),\n",
    "#              \"ME7200\": (\"ME5120\"),\n",
    "              \"ME7210\": (\"ME4210\",\"ME6210\"),\n",
    "#              \"ME7250\": (\"ME5210\"),\n",
    "#              \"ME7300\": (\"ME5350\"),\n",
    "              \"ME7330\": (),#\"ME5360\"\n",
    "              \"ME7340\": (\"ME4010\",\"ME6010\"),\n",
    "#              \"ME7350\": (\"ME5360\"),\n",
    "              \"ME7390\": (\"ME7500\"),\n",
    "              \"ME7400\": (\"ME4330\",\"ME6330\"),\n",
    "              \"ME7500\": (),# [\"ME5320\", \"ME5750\"]\n",
    "#              \"ME7520\": ([\"ME5310\", \"ME5750\"]),\n",
    "              \"ME7550\": (\"ME7500\"),\n",
    "              \"ME7690\": (\"ME4210\",\"ME6210\"),\n",
    "              \"ME7720\": (\"ME4720\",\"ME6720\"),#, \"ME5750\"\n",
    "              \"ME7730\": (\"ME4700\",\"ME6700\"),\n",
    "              \"ME7740\": (),\n",
    "              \"ME7750\": (\"ME4700\",\"ME6700\"),\n",
    "#              \"ME7760\": (\"ME5760\"),\n",
    "              \"ME7780\": (\"ME6730\")}"
   ]
  },
  {
   "cell_type": "code",
   "execution_count": 3,
   "metadata": {
    "collapsed": false
   },
   "outputs": [
    {
     "data": {
      "text/plain": [
       "[1, 2, 3, 4, 5, 6, 7, 8, 9]"
      ]
     },
     "execution_count": 3,
     "metadata": {},
     "output_type": "execute_result"
    }
   ],
   "source": [
    "import itertools\n",
    "list2d = [[1,2,3],[4,5,6], [7], [8,9]]\n",
    "merged = list(itertools.chain(*list2d))\n",
    "merged"
   ]
  },
  {
   "cell_type": "code",
   "execution_count": 36,
   "metadata": {
    "collapsed": false
   },
   "outputs": [],
   "source": [
    "def flat_list(list):\n",
    "    out = ''\n",
    "    if type(list) is str:\n",
    "        if list[-1] is 'c':\n",
    "            list = list[:-1]\n",
    "        out = list\n",
    "    else:\n",
    "        for sublist in list:\n",
    "            if type(sublist) is str:\n",
    "                if sublist not in out:\n",
    "                    if sublist[-1] is 'c':\n",
    "                        sublist = sublist[:-1]\n",
    "                    out = out + ',' + sublist\n",
    "            else:\n",
    "                for val in sublist:\n",
    "                    if val not in out:\n",
    "                        if val[-1] is 'c':\n",
    "                            val = val[:-1]\n",
    "                        out = out + ',' + val\n",
    "    if len(out) is not 0 and out[0] is ',':\n",
    "        out = out[1:]\n",
    "    return out\n",
    "    "
   ]
  },
  {
   "cell_type": "code",
   "execution_count": 8,
   "metadata": {
    "collapsed": false
   },
   "outputs": [
    {
     "data": {
      "text/plain": [
       "(['EGR1010'], ['MTH2300', 'MTH2310'])"
      ]
     },
     "execution_count": 8,
     "metadata": {},
     "output_type": "execute_result"
    }
   ],
   "source": [
    "prereqdict[\"ME1020\"]"
   ]
  },
  {
   "cell_type": "code",
   "execution_count": 17,
   "metadata": {
    "collapsed": false
   },
   "outputs": [
    {
     "data": {
      "text/plain": [
       "'EGR1010,ME1040,PHY2400,ME2020,MTH2310'"
      ]
     },
     "execution_count": 17,
     "metadata": {},
     "output_type": "execute_result"
    }
   ],
   "source": [
    "outlist = flat_list(prereqdict[\"ME2120\"])\n",
    "outlist"
   ]
  },
  {
   "cell_type": "code",
   "execution_count": 31,
   "metadata": {
    "collapsed": false
   },
   "outputs": [
    {
     "data": {
      "text/plain": [
       "1"
      ]
     },
     "execution_count": 31,
     "metadata": {},
     "output_type": "execute_result"
    }
   ],
   "source": [
    "len('.')"
   ]
  },
  {
   "cell_type": "code",
   "execution_count": 37,
   "metadata": {
    "collapsed": false
   },
   "outputs": [
    {
     "name": "stdout",
     "output_type": "stream",
     "text": [
      "ME7750: ME4700,ME6700\n",
      "ME4160: ME2020,ME2210,ME3120,ME1040\n",
      "ME7140: ME6120,ME7100,ME4120\n",
      "ME4010: ME3360,ME3210\n",
      "ME7730: ME4700,ME6700\n",
      "ME4350: ME3350\n",
      "ME4250: ME2210\n",
      "ME4330: ME3350\n",
      "ME4830: ME2700\n",
      "ME4150: ME4140\n",
      "ME2210: ME1020,ME2120\n",
      "ME3350: ME2210,ME3310\n",
      "ME4260: MTH2350,MTH2530\n",
      "ME4530: ME3310\n",
      "ME4770: ME2700,ME3120\n",
      "ME4490: ME3120\n",
      "ME7390: ME7500\n",
      "ME7060: ME6120,ME7100,ME4120\n",
      "ME4520: ME3350\n",
      "ME4340: ME3360\n",
      "ME3320: ME1020,ME3310\n",
      "ME4880: ME2700,ME3310,ME3750\n",
      "ME4120: MTH2320,MTH2350,ME3120,MTH2330,MTH2530\n",
      "ME4240: ME2210\n",
      "ME7740: \n",
      "ME7340: ME4010,ME6010\n",
      "ME4360: ME3320,ME3350,MTH2350,MTH2530,MTH2330\n",
      "ME3310: EGR1010,PHY2400,MTH2310\n",
      "ME7690: ME4210,ME6210\n",
      "ME4550: ME3360\n",
      "ME4910: ME2020,EGR3350,MTH2320,MTH2350,PHY2410,EE2010,ME2210,ME2700,ME3120,ME3310,ME4620,MTH2330,MTH2530,ME4620\n",
      "ME4580: ME2700,ME3310,ME3750\n",
      "ME4730: ME2700\n",
      "ME4210: ME3210\n",
      "ME4870: ME2210,BME3212,ISE3212\n",
      "ME4680: CHM1210,PHY2410,PHY1120\n",
      "ME3210: EE2010,ME2210,ME3120,ME3350,MTH2350\n",
      "ME4860: ME2700,ME3120\n",
      "ME7400: ME4330,ME6330\n",
      "ME4700: ME2700,MTH2320,MTH2350,MTH2330,MTH2530\n",
      "ME2120: EGR1010,ME1040,PHY2400,ME2020,MTH2310\n",
      "ME7330: \n",
      "ME7160: ME6120,ME7100,ME4120\n",
      "ME4720: ME2700\n",
      "ME4540: ME3360\n",
      "ME7780: ME6730\n",
      "ME2700: CHM1210,PHY2400\n",
      "ME4560: ME3350\n",
      "ME4850: ME2700,ME3310,ME3750\n",
      "ME3360: ME3350,MTH2350\n",
      "ME4180: ME2700\n",
      "ME4840: ME2700,ME3120\n",
      "ME4430: ME3350\n",
      "ME4620: ME2700,ME3120,ME3600\n",
      "ME3760: ME3750\n",
      "ME4190: MTH2350,MTH2320,ME3350,MTH2330,MTH2530\n",
      "ME4440: ME3350\n",
      "ME3120: ME1020,ME2120\n",
      "ME4750: ME2600,ME2700\n",
      "ME1020: EGR1010,MTH2300,MTH2310\n",
      "ME7120: ME4120,ME6120\n",
      "ME4590: ME3360\n",
      "ME4610: ME3360,ME3600\n",
      "ME7080: ME6120,ME7100,ME4120\n",
      "ME7500: \n",
      "ME4080: MTH2350,ME3210,MTH2330,MTH2530\n",
      "ME7720: ME4720,ME6720\n",
      "ME4740: ME2700,ME3120,ME4620\n",
      "ME4220: ME3210\n",
      "ME3600: EE2010,EGR3350,ME2120,MTH2350,MTH2330,MTH2530\n",
      "ME7550: ME7500\n",
      "ME3750: ME2700\n",
      "ME7210: ME4210,ME6210\n",
      "ME4820: ME2700,ME3310,ME3750\n",
      "ME4140: ME2700,ME3120\n",
      "ME2600: ME2700\n",
      "ME4570: ME2700,ME3310,ME3750\n"
     ]
    }
   ],
   "source": [
    "for i in prereqdict:\n",
    "    print(i + ':' + ' ' + flat_list(prereqdict[i]))\n",
    "    #print(prereqdict[i])"
   ]
  },
  {
   "cell_type": "code",
   "execution_count": null,
   "metadata": {
    "collapsed": true
   },
   "outputs": [],
   "source": []
  }
 ],
 "metadata": {
  "hide_input": false,
  "kernelspec": {
   "display_name": "Python 3",
   "language": "python",
   "name": "python3"
  },
  "language_info": {
   "codemirror_mode": {
    "name": "ipython",
    "version": 3
   },
   "file_extension": ".py",
   "mimetype": "text/x-python",
   "name": "python",
   "nbconvert_exporter": "python",
   "pygments_lexer": "ipython3",
   "version": "3.5.3"
  },
  "latex_envs": {
   "bibliofile": "biblio.bib",
   "cite_by": "apalike",
   "current_citInitial": 1,
   "eqLabelWithNumbers": true,
   "eqNumInitial": 0
  }
 },
 "nbformat": 4,
 "nbformat_minor": 2
}
